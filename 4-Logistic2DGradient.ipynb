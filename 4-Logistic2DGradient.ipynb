{
 "cells": [
  {
   "cell_type": "code",
   "execution_count": 1,
   "id": "a688ff87",
   "metadata": {},
   "outputs": [],
   "source": [
    "import numpy as np\n",
    "import matplotlib.pyplot as plt"
   ]
  },
  {
   "cell_type": "code",
   "execution_count": 2,
   "id": "3284b38b",
   "metadata": {},
   "outputs": [
    {
     "data": {
      "image/png": "[encoded data removed]",
      "text/plain": [
       "<Figure size 432x288 with 1 Axes>"
      ]
     },
     "metadata": {
      "needs_background": "light"
     },
     "output_type": "display_data"
    }
   ],
   "source": [
    "logistic = lambda x: 1/(1+np.exp(-x))\n",
    "\n",
    "np.random.seed(0)\n",
    "X1 = np.random.randn(20, 2)+np.array([4, 4])\n",
    "X2 = np.random.randn(20, 2)+np.array([1, 2])\n",
    "\n",
    "plt.scatter(X1[:, 0], X1[:, 1])\n",
    "plt.scatter(X2[:, 0], X2[:, 1])\n",
    "plt.axis(\"equal\")\n",
    "\n",
    "def get_logistic_loss(X1, X2, a, b, c):\n",
    "    return np.sum(logistic(a*X1[:, 0]+b*X1[:, 1] + c)**2) + np.sum((1-logistic(a*X2[:, 0]+b*X2[:, 1] + c))**2)\n",
    "\n",
    "def plot_logistic_regression_predictions(X1, X2, a, b, c):\n",
    "    plt.scatter(X1[:, 0], X1[:, 1])\n",
    "    plt.scatter(X2[:, 0], X2[:, 1])\n",
    "    X = np.concatenate((X1, X2), axis=0)\n",
    "    xmin = np.min(X, axis=0)\n",
    "    xmax = np.max(X, axis=0)\n",
    "    iv = max(xmax[1]-xmin[1], xmax[0]-xmin[0])\n",
    "    \n",
    "    p0 = -c*np.array([a, b])/(a**2 + b**2)\n",
    "    v = np.array([-b, a])\n",
    "    mag = np.sqrt(np.sum(v**2))\n",
    "    if mag > 0:\n",
    "        v = v/mag\n",
    "        p = p0 - 2*iv*v\n",
    "        q = p0 + 2*iv*v\n",
    "        plt.plot([p[0], q[0]], [p[1], q[1]])\n",
    "        rg = xmax[0] - xmin[0]\n",
    "        plt.xlim([xmin[0]-0.2*rg, xmax[0]+0.2*rg])\n",
    "        rg = xmax[1] - xmin[1]\n",
    "        plt.ylim([xmin[1]-0.2*rg, xmax[1]+0.2*rg])\n",
    "\n",
    "        wrong = 0\n",
    "        for x in X1:\n",
    "            y = logistic(a*x[0] + b*x[1] + c)\n",
    "            proj = p0 + np.sum(v*(x-p0))*v\n",
    "            plt.plot([x[0], proj[0]], [x[1], proj[1]], c='C0')\n",
    "            if y > 0.5:\n",
    "                plt.scatter([x[0]], [x[1]], 200, c='C0', marker='x')\n",
    "                wrong += 1\n",
    "        for x in X2:\n",
    "            y = logistic(a*x[0] + b*x[1] + c)\n",
    "            proj = p0 + np.sum(v*(x-p0))*v\n",
    "            plt.plot([x[0], proj[0]], [x[1], proj[1]], c='C1')\n",
    "            if y < 0.5:\n",
    "                plt.scatter([x[0]], [x[1]], 200, c='C1', marker='x')\n",
    "                wrong += 1\n",
    "        loss = get_logistic_loss(X1, X2, a, b, c)\n",
    "        N = X.shape[0]\n",
    "        plt.title(\"a = {:.3f}, b = {:.3f}, c = {:.3f}\\nLoss = {:.3f}, {} Wrong ({} % Accuracy)\".format(a, b, c, loss, wrong, int(100*(N-wrong)/N)))\n",
    "        plt.axis(\"equal\")"
   ]
  },
  {
   "cell_type": "code",
   "execution_count": 3,
   "id": "638a4e0f",
   "metadata": {},
   "outputs": [
    {
     "name": "stderr",
     "output_type": "stream",
     "text": [
      "<ipython-input-2-d393a34b1ef4>:22: RuntimeWarning: invalid value encountered in true_divide\n",
      "  p0 = -c*np.array([a, b])/(a**2 + b**2)\n"
     ]
    },
    {
     "data": {
      "text/plain": [
       "Text(0.5, 0, 'Iteration')"
      ]
     },
     "execution_count": 3,
     "metadata": {},
     "output_type": "execute_result"
    },
    {
     "data": {
      "image/png": "[encoded data removed]",
      "text/plain": [
       "<Figure size 720x360 with 2 Axes>"
      ]
     },
     "metadata": {
      "needs_background": "light"
     },
     "output_type": "display_data"
    }
   ],
   "source": [
    "losses = []\n",
    "steps = []\n",
    "step = 0.01\n",
    "n_iters = 150\n",
    "a = 0\n",
    "b = 0\n",
    "c = 0\n",
    "X = np.concatenate((X1, X2))\n",
    "y = np.concatenate((np.zeros(X1.shape[0]), np.ones(X2.shape[0])))\n",
    "plt.figure(figsize=(10, 5))\n",
    "for it in range(n_iters):\n",
    "    ## TODO: Update a, b, and c with Gradient descent\n",
    "    f = logistic(a*X[:, 0] + b*X[:, 1] + c)\n",
    "    ## TODO: Fill this in to perform gradient descent on a, b, and c\n",
    "    steps.append([a, b])\n",
    "    loss = get_logistic_loss(X1, X2, a, b, c)\n",
    "    losses.append(loss)\n",
    "    \n",
    "plt.clf()\n",
    "plt.subplot(121)\n",
    "plot_logistic_regression_predictions(X1, X2, a, b, c)\n",
    "plt.xlim([-1, 7])\n",
    "plt.ylim([-1, 7])\n",
    "plt.subplot(122)\n",
    "plt.plot(losses)\n",
    "plt.xlim([0, n_iters])\n",
    "plt.ylim([0, np.max(losses)])\n",
    "plt.title(\"Loss\")\n",
    "plt.xlabel(\"Iteration\")"
   ]
  },
  {
   "cell_type": "code",
   "execution_count": null,
   "id": "857cf1db",
   "metadata": {},
   "outputs": [],
   "source": []
  }
 ],
 "metadata": {
  "kernelspec": {
   "display_name": "Python 3",
   "language": "python",
   "name": "python3"
  },
  "language_info": {
   "codemirror_mode": {
    "name": "ipython",
    "version": 3
   },
   "file_extension": ".py",
   "mimetype": "text/x-python",
   "name": "python",
   "nbconvert_exporter": "python",
   "pygments_lexer": "ipython3",
   "version": "3.8.8"
  }
 },
 "nbformat": 4,
 "nbformat_minor": 5
}
